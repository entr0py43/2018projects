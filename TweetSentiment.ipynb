{
 "cells": [
  {
   "cell_type": "code",
   "execution_count": 4,
   "metadata": {},
   "outputs": [],
   "source": [
    "import re\n",
    "import urllib.request\n",
    "import nltk"
   ]
  },
  {
   "cell_type": "code",
   "execution_count": 2,
   "metadata": {},
   "outputs": [
    {
     "data": {
      "text/plain": [
       "('pos_tweets.txt', <http.client.HTTPMessage at 0x2c401a7e9e8>)"
      ]
     },
     "execution_count": 2,
     "metadata": {},
     "output_type": "execute_result"
    }
   ],
   "source": [
    "urlbad = \"https://raw.githubusercontent.com/lesley2958/twilio-sent-analysis/master/neg_tweets.txt\"\n",
    "urlgood = \"https://raw.githubusercontent.com/lesley2958/twilio-sent-analysis/master/pos_tweets.txt\"\n",
    "urllib.request.urlretrieve(urlbad, 'neg_tweets.txt')\n",
    "urllib.request.urlretrieve(urlgood, 'pos_tweets.txt')"
   ]
  },
  {
   "cell_type": "code",
   "execution_count": 6,
   "metadata": {},
   "outputs": [
    {
     "name": "stdout",
     "output_type": "stream",
     "text": [
      "{'too': True, 'many': True, 'cats': True, 'in': True, 'this': True, 'house': True}\n"
     ]
    }
   ],
   "source": [
    "def format_sentence(sent):\n",
    "    sent = sent.lower()\n",
    "    return({word: True for word in nltk.word_tokenize(sent)})\n",
    "\n",
    "print(format_sentence(\"TOO many Cats in this house\"))"
   ]
  },
  {
   "cell_type": "code",
   "execution_count": 7,
   "metadata": {},
   "outputs": [],
   "source": [
    "pos = []\n",
    "with open(\"./pos_tweets.txt\", encoding='utf8') as f:\n",
    "    for i in f:\n",
    "        pos.append([format_sentence(i), 'pos'])\n",
    "        \n",
    "neg = []\n",
    "with open(\"./neg_tweets.txt\", encoding='utf8') as f:\n",
    "    for i in f:\n",
    "        neg.append([format_sentence(i), 'neg'])"
   ]
  },
  {
   "cell_type": "code",
   "execution_count": 8,
   "metadata": {},
   "outputs": [],
   "source": [
    "training = pos[:int((.8)*len(pos))] + neg[:int((.8)*len(neg))]\n",
    "test = pos[int((.8)*len(pos)):] + neg[int((.8)*len(neg)):]"
   ]
  },
  {
   "cell_type": "code",
   "execution_count": 9,
   "metadata": {},
   "outputs": [],
   "source": [
    "from nltk.classify import NaiveBayesClassifier\n",
    "\n",
    "classifier = NaiveBayesClassifier.train(training)"
   ]
  },
  {
   "cell_type": "code",
   "execution_count": 10,
   "metadata": {},
   "outputs": [
    {
     "name": "stdout",
     "output_type": "stream",
     "text": [
      "Most Informative Features\n",
      "                 awesome = True              pos : neg    =     26.2 : 1.0\n",
      "                headache = True              neg : pos    =     17.7 : 1.0\n",
      "                      no = True              neg : pos    =     15.0 : 1.0\n",
      "                    love = True              pos : neg    =     14.4 : 1.0\n",
      "                   thank = True              pos : neg    =     12.7 : 1.0\n",
      "                  hahaha = True              pos : neg    =     11.2 : 1.0\n",
      "                    haha = True              pos : neg    =     10.6 : 1.0\n",
      "                   great = True              pos : neg    =     10.2 : 1.0\n",
      "                   loved = True              pos : neg    =      9.7 : 1.0\n",
      "               beautiful = True              pos : neg    =      9.7 : 1.0\n",
      "                     fan = True              pos : neg    =      9.7 : 1.0\n",
      "                    lost = True              neg : pos    =      9.0 : 1.0\n",
      "                    damn = True              neg : pos    =      9.0 : 1.0\n",
      "                   sorry = True              neg : pos    =      8.5 : 1.0\n",
      "                 amazing = True              pos : neg    =      8.0 : 1.0\n",
      "                    been = True              neg : pos    =      7.9 : 1.0\n",
      "                 excited = True              pos : neg    =      7.6 : 1.0\n",
      "                    sick = True              neg : pos    =      7.6 : 1.0\n",
      "                      hi = True              pos : neg    =      7.2 : 1.0\n",
      "                    soon = True              pos : neg    =      6.7 : 1.0\n",
      "                  pretty = True              pos : neg    =      6.7 : 1.0\n",
      "                   funny = True              pos : neg    =      6.7 : 1.0\n",
      "                     100 = True              pos : neg    =      6.7 : 1.0\n",
      "                  thanks = True              pos : neg    =      6.7 : 1.0\n",
      "                  played = True              pos : neg    =      6.7 : 1.0\n",
      "                       x = True              pos : neg    =      6.7 : 1.0\n",
      "                birthday = True              pos : neg    =      5.8 : 1.0\n",
      "                   miley = True              pos : neg    =      5.8 : 1.0\n",
      "                   close = True              pos : neg    =      5.8 : 1.0\n",
      "                    nice = True              pos : neg    =      5.7 : 1.0\n"
     ]
    }
   ],
   "source": [
    "classifier.show_most_informative_features(n=30)\n",
    "#meh, Hi...New.. need a much larger volume of tweets to train this on, and some more preprocessing"
   ]
  },
  {
   "cell_type": "code",
   "execution_count": 15,
   "metadata": {},
   "outputs": [
    {
     "name": "stdout",
     "output_type": "stream",
     "text": [
      "neg\n"
     ]
    }
   ],
   "source": [
    "example = \"MS xbox controller battery explosion, fantastic\"\n",
    "#example = \"Microsoft stock down again\"\n",
    "# example = \"Microsoft announces new video game console\"\n",
    "print(classifier.classify(format_sentence(example)))"
   ]
  },
  {
   "cell_type": "code",
   "execution_count": 16,
   "metadata": {},
   "outputs": [
    {
     "name": "stdout",
     "output_type": "stream",
     "text": [
      "0.8482587064676617\n"
     ]
    }
   ],
   "source": [
    "from nltk.classify.util import accuracy\n",
    "print(accuracy(classifier, test))"
   ]
  },
  {
   "cell_type": "code",
   "execution_count": 60,
   "metadata": {},
   "outputs": [],
   "source": [
    "#1387 lines in neg_tweets.txt; 617 in pos_tweets.txt"
   ]
  },
  {
   "cell_type": "code",
   "execution_count": 61,
   "metadata": {
    "scrolled": true
   },
   "outputs": [],
   "source": [
    "# from sklearn import metrics\n",
    "# metrics.confusion_matrix(y_test, pred)"
   ]
  }
 ],
 "metadata": {
  "kernelspec": {
   "display_name": "Python 3",
   "language": "python",
   "name": "python3"
  },
  "language_info": {
   "codemirror_mode": {
    "name": "ipython",
    "version": 3
   },
   "file_extension": ".py",
   "mimetype": "text/x-python",
   "name": "python",
   "nbconvert_exporter": "python",
   "pygments_lexer": "ipython3",
   "version": "3.6.4"
  }
 },
 "nbformat": 4,
 "nbformat_minor": 2
}
